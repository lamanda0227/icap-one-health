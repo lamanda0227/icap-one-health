{
 "cells": [
  {
   "cell_type": "code",
   "execution_count": 6,
   "id": "collectible-wings",
   "metadata": {},
   "outputs": [
    {
     "name": "stderr",
     "output_type": "stream",
     "text": [
      "\n",
      "Attaching package: ‘dplyr’\n",
      "\n",
      "\n",
      "The following objects are masked from ‘package:stats’:\n",
      "\n",
      "    filter, lag\n",
      "\n",
      "\n",
      "The following objects are masked from ‘package:base’:\n",
      "\n",
      "    intersect, setdiff, setequal, union\n",
      "\n",
      "\n"
     ]
    }
   ],
   "source": [
    "library(dplyr)"
   ]
  },
  {
   "cell_type": "code",
   "execution_count": 7,
   "id": "baking-warren",
   "metadata": {},
   "outputs": [],
   "source": [
    "setwd('~/Desktop/CUMC/Practicum/data')"
   ]
  },
  {
   "cell_type": "code",
   "execution_count": 8,
   "id": "small-dryer",
   "metadata": {},
   "outputs": [],
   "source": [
    "f_name <- 'alumni_tracking_05.11_update2.csv'\n",
    "dat <- read.csv(f_name)"
   ]
  },
  {
   "cell_type": "code",
   "execution_count": null,
   "id": "balanced-ballot",
   "metadata": {},
   "outputs": [],
   "source": [
    "sec1 <- dat %>% filter"
   ]
  }
 ],
 "metadata": {
  "kernelspec": {
   "display_name": "R",
   "language": "R",
   "name": "ir"
  },
  "language_info": {
   "codemirror_mode": "r",
   "file_extension": ".r",
   "mimetype": "text/x-r-source",
   "name": "R",
   "pygments_lexer": "r",
   "version": "4.0.4"
  }
 },
 "nbformat": 4,
 "nbformat_minor": 5
}
